{
 "cells": [
  {
   "cell_type": "code",
   "execution_count": 114,
   "metadata": {},
   "outputs": [
    {
     "name": "stdout",
     "output_type": "stream",
     "text": [
      "Resource Manager of Visa Library at C:\\WINDOWS\\system32\\visa32.dll\n",
      "9\n",
      "('USB0::0x0699::0x034D::C010339::INSTR', 'ASRL1::INSTR', 'ASRL10::INSTR')\n"
     ]
    }
   ],
   "source": [
    "import pyvisa\n",
    "import numpy as np\n",
    "from time import sleep\n",
    "#|rm = pyvisa.ResourceManager('c:\\\\Program Files\\\\IVI Foundation\\\\VISA\\\\Win64\\\\TekVISA\\\\Bin\\\\tkVisa32.dll')z\n",
    "#rm = pyvisa.ResourceManager('C:\\\\Windows\\\\System32\\\\visa32.dll')\n",
    "rm = pyvisa.ResourceManager()\n",
    "print(rm)\n",
    "print(rm.session)\n",
    "print(rm.list_resources())\n",
    "my_instrument = rm.open_resource('USB::0x0699::0x034D::C010339::INSTR')"
   ]
  },
  {
   "cell_type": "code",
   "execution_count": 115,
   "metadata": {},
   "outputs": [
    {
     "name": "stdout",
     "output_type": "stream",
     "text": [
      "USBInstrument at USB0::0x0699::0x034D::C010339::0::INSTR\n",
      "TEKTRONIX,AFG3251C,C010339,SCPI:99.0 FV:1.0.7\n"
     ]
    }
   ],
   "source": [
    "my_instrument.read_termination = '\\n'\n",
    "my_instrument.write_termination = '\\n'\n",
    "print(my_instrument)\n",
    "print(my_instrument.query('*IDN?'))"
   ]
  },
  {
   "cell_type": "code",
   "execution_count": 91,
   "metadata": {},
   "outputs": [
    {
     "data": {
      "text/plain": [
       "43"
      ]
     },
     "execution_count": 91,
     "metadata": {},
     "output_type": "execute_result"
    }
   ],
   "source": [
    "my_instrument.write(\"*rst\") #pulse with period of 2ms\n",
    "my_instrument.write(\"*cls\") #pulse with period of 2ms\n",
    "my_instrument.write(\"OUTPut1 OFF\") #ACTIVATE THE output channel\n",
    "my_instrument.write(\"SOURce1:VOLTage:UNIT VRMS\")\n",
    "my_instrument.write(\"SOURce1:FUNCtion:SHAPe PULS\") #sets or queries the shape of the output waveform\n",
    "my_instrument.write(\"SOURce1:PULSe:PERiod 10us\") #pulse with period of 2ms\n",
    "my_instrument.write(\"SOURce1:PULSe:DCYCle 99.930\") #pulse with 99.99 dutycycle on\n",
    "my_instrument.write(\"SOURce1:VOLTage:LEVel:IMMediate:LOW 0V\") #low voltage for the output channel\n",
    "my_instrument.write(\"SOURce1:VOLTage:LEVel:IMMediate:OFFSet 0V\") #sets or queries the offset level for the specified channel\n",
    "\n",
    "my_instrument.write(\"OUTPut1 ON\") #ACTIVATE THE output channel\n",
    "\n",
    "#este valor es el que se va a andar modificando para ahcer el barrido de la frecuencia\n",
    "#my_instrument.write(\"SOURce1:VOLTage:LEVel:IMMediate:HIGH 1.5V\") #high voltage for the output channel"
   ]
  },
  {
   "cell_type": "code",
   "execution_count": 95,
   "metadata": {},
   "outputs": [
    {
     "name": "stdout",
     "output_type": "stream",
     "text": [
      "output voltage is now 0.0\n",
      "output voltage is now 0.1\n",
      "output voltage is now 0.2\n",
      "output voltage is now 0.3\n",
      "output voltage is now 0.4\n",
      "output voltage is now 0.5\n",
      "output voltage is now 0.6\n",
      "output voltage is now 0.7\n",
      "output voltage is now 0.8\n",
      "output voltage is now 0.9\n"
     ]
    }
   ],
   "source": [
    "for a in range (10):\n",
    "    my_instrument.write(\"OUTPut1 OFF\") #ACTIVATE THE output channel\n",
    "    my_instrument.write(\"SOURce1:VOLTage:LEVel:IMMediate:LOW 0V\") #low voltage for the output channel\n",
    "    my_instrument.write(\"SOURce1:VOLTage:LEVel:IMMediate:OFFSet 0V\") #sets or queries the offset level for the specified channel\n",
    "    my_instrument.write(f\"SOURce1:VOLTage:LEVel:IMMediate:HIGH {a/20}\") #high voltage for the output channel\n",
    "    my_instrument.write(\"OUTPut1 ON\") #ACTIVATE THE output channel\n",
    "    print(f\"output voltage is now {a/10}\")\n",
    "    sleep(2)"
   ]
  },
  {
   "cell_type": "code",
   "execution_count": 112,
   "metadata": {},
   "outputs": [],
   "source": [
    "output_voltage=np.arange(0,3.2,0.01)\n",
    "#for a in output_voltage:\n",
    "#    print(round(a,3))"
   ]
  },
  {
   "cell_type": "code",
   "execution_count": 116,
   "metadata": {},
   "outputs": [
    {
     "name": "stdout",
     "output_type": "stream",
     "text": [
      "output voltage is now 2.0\n",
      "output voltage is now 2.01\n"
     ]
    }
   ],
   "source": [
    "for a in output_voltage:\n",
    "    my_instrument.write(\"OUTPut1 OFF\") #ACTIVATE THE output channel\n",
    "    my_instrument.write(\"SOURce1:VOLTage:LEVel:IMMediate:LOW 0V\") #low voltage for the output channel\n",
    "    my_instrument.write(\"SOURce1:VOLTage:LEVel:IMMediate:OFFSet 0V\") #sets or queries the offset level for the specified channel\n",
    "    my_instrument.write(f\"SOURce1:VOLTage:LEVel:IMMediate:HIGH {round((a/2),3)}\") #high voltage for the output channel\n",
    "    my_instrument.write(\"OUTPut1 ON\") #ACTIVATE THE output channel\n",
    "    print(f\"output voltage is now {round(a,3)}\")\n",
    "    sleep(5)"
   ]
  },
  {
   "cell_type": "code",
   "execution_count": null,
   "metadata": {},
   "outputs": [],
   "source": []
  }
 ],
 "metadata": {
  "kernelspec": {
   "display_name": "Python 3",
   "language": "python",
   "name": "python3"
  },
  "language_info": {
   "codemirror_mode": {
    "name": "ipython",
    "version": 3
   },
   "file_extension": ".py",
   "mimetype": "text/x-python",
   "name": "python",
   "nbconvert_exporter": "python",
   "pygments_lexer": "ipython3",
   "version": "3.11.8"
  }
 },
 "nbformat": 4,
 "nbformat_minor": 2
}
